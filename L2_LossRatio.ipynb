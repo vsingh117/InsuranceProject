{
 "cells": [
  {
   "cell_type": "code",
   "execution_count": 84,
   "metadata": {},
   "outputs": [],
   "source": [
    "import pandas as pd\n",
    "import numpy as np\n",
    "from sklearn.linear_model import Ridge, RidgeCV, LassoCV\n",
    "from sklearn.model_selection import train_test_split\n",
    "from sklearn import preprocessing\n",
    "from sklearn.metrics import mean_squared_error\n",
    "from math import sqrt\n",
    "\n",
    "#Read multiple files\n",
    "import glob"
   ]
  },
  {
   "cell_type": "code",
   "execution_count": 85,
   "metadata": {},
   "outputs": [
    {
     "data": {
      "text/plain": [
       "(339399, 65)"
      ]
     },
     "execution_count": 85,
     "metadata": {},
     "output_type": "execute_result"
    }
   ],
   "source": [
    "# Read training data\n",
    "df_train = pd.read_csv('Balance_training.csv')\n",
    "df_train.shape"
   ]
  },
  {
   "cell_type": "code",
   "execution_count": 86,
   "metadata": {},
   "outputs": [],
   "source": [
    "# Define categorical columns\n",
    "categorical_columns = ['Vehicle_Performance',\n",
    "                       'Vehicle_Passive_Restraint',\n",
    "                       'Policy_Company','Policy_Billing_Code',\n",
    "                       'Policy_Method_Of_Payment',\n",
    "                       'Policy_Reinstatement_Fee_Indicator',\n",
    "                    'Vehicle_Comprehensive_Coverage_Indicator',\n",
    "                       'Vehicle_Collision_Coverage_Indicator',\n",
    "                        'Vehicle_Youthful_Driver_Indicator',\n",
    "                     'Vehicle_Youthful_Good_Student_Code',\n",
    "                       'Vehicle_Youthful_Driver_Training_Code',\n",
    "                     'Vehicle_Safe_Driver_Discount_Indicator',\n",
    "                     'EEA_Liability_Coverage_Only_Indicator',\n",
    "                     'EEA_Multi_Auto_Policies_Indicator',\n",
    "                     'EEA_Packaged_Policy_Indicator',\n",
    "                     'EEA_Full_Coverage_Indicator',\n",
    "                       'EEA_Agency_Type',\n",
    "                     'SYS_Renewed',\n",
    "                     'SYS_New_Business',\n",
    "                      'Vehicle_Usage',\n",
    "                      'Vehicle_Anti_Theft_Device','Vehicle_Make_Description']"
   ]
  },
  {
   "cell_type": "code",
   "execution_count": 87,
   "metadata": {},
   "outputs": [],
   "source": [
    "# Get dummy columns for training dataset\n",
    "df_train = pd.get_dummies(df_train, columns=categorical_columns, prefix_sep=\"_\")\n",
    "\n",
    "#Droping columns after feature selection\n",
    "df_train.drop(['Driver_Total_Female','Driver_Total_Related_To_Insured_Spouse','Vehicle_Performance_Intermediate'],axis=1, inplace=True)"
   ]
  },
  {
   "cell_type": "code",
   "execution_count": 88,
   "metadata": {},
   "outputs": [
    {
     "data": {
      "text/plain": [
       "(339399, 146)"
      ]
     },
     "execution_count": 88,
     "metadata": {},
     "output_type": "execute_result"
    }
   ],
   "source": [
    "df_train.shape"
   ]
  },
  {
   "cell_type": "code",
   "execution_count": 89,
   "metadata": {},
   "outputs": [],
   "source": [
    "# Devide dataset into training and testing dataset\n",
    "X = df_train.drop(['Loss_Amount','Frequency','Severity','Loss_Ratio'],axis=1)\n",
    "Y = df_train['Loss_Amount']\n",
    "\n",
    "X_train, X_test, Y_train, Y_test = train_test_split(X, Y, test_size=0.33)"
   ]
  },
  {
   "cell_type": "code",
   "execution_count": 90,
   "metadata": {},
   "outputs": [],
   "source": [
    "# scale input attributes for train dataset\n",
    "scaler = preprocessing.StandardScaler()\n",
    "scaler= scaler.fit(X_train)\n",
    "\n",
    "# Scale input attributes for Train dataset\n",
    "X_trainscaled = scaler.transform(X_train)\n",
    "\n",
    "# Scale input attributes for Test dataset\n",
    "X_testscaled = scaler.transform(X_test)"
   ]
  },
  {
   "cell_type": "code",
   "execution_count": 91,
   "metadata": {},
   "outputs": [],
   "source": [
    "# Ridge Regularization with scaling\n",
    "ncoef= np.linspace(0.1,1000, num=100)\n",
    "\n",
    "l2_cv = RidgeCV(alphas=ncoef, cv=None, store_cv_values=True)     #  , store_cv_values=True , cv=2  alphas=0.1  cv=2\n",
    "l2_cv.fit(X_trainscaled,Y_train)\n",
    "y_pred=l2_cv.predict(X_trainscaled)"
   ]
  },
  {
   "cell_type": "code",
   "execution_count": 92,
   "metadata": {},
   "outputs": [
    {
     "name": "stdout",
     "output_type": "stream",
     "text": [
      "RMSE for training dataset for L2 model is ::  2510.5257427425468\n"
     ]
    }
   ],
   "source": [
    "rms = sqrt(mean_squared_error(y_pred, Y_train))\n",
    "print('RMSE for training dataset for L2 model is :: ',rms)"
   ]
  },
  {
   "cell_type": "code",
   "execution_count": 93,
   "metadata": {},
   "outputs": [
    {
     "name": "stdout",
     "output_type": "stream",
     "text": [
      "RMSE for testing dataset for L2 model is ::  2480.362921513746\n"
     ]
    }
   ],
   "source": [
    "ytest_pred=l2_cv.predict(X_testscaled)\n",
    "t_rms = sqrt(mean_squared_error(ytest_pred, Y_test))\n",
    "print('RMSE for testing dataset for L2 model is :: ',t_rms)"
   ]
  },
  {
   "cell_type": "code",
   "execution_count": 94,
   "metadata": {},
   "outputs": [],
   "source": [
    "# Copy data in tabular format\n",
    "dfObj = pd.DataFrame(columns=['FileName', 'PredictedLogRatio', 'ActualLogRatio','AbsoluteErrorLogRatio','RMSE_Portfolio'])"
   ]
  },
  {
   "cell_type": "code",
   "execution_count": 95,
   "metadata": {},
   "outputs": [],
   "source": [
    "# Assigning value to table\n",
    "\n",
    "## Applying predective model on test data\n",
    "path = r'.\\Trainportfolio' # use your path\n",
    "all_files = glob.glob(path + \"/*.csv\")\n",
    "\n",
    "\n",
    "for filename in all_files:\n",
    "    port_test = pd.read_csv(filename)\n",
    "    port_test = pd.get_dummies(port_test, columns=categorical_columns, prefix_sep=\"_\")\n",
    "    \n",
    "    port_test.drop(['Driver_Total_Female','Driver_Total_Related_To_Insured_Spouse'],axis=1, inplace=True)\n",
    "\n",
    "    # Align columns for both test and train to avoid mismatch of columns\n",
    "    df_train, port_test = df_train.align(port_test, join='left', axis=1, fill_value=0)\n",
    "    \n",
    "    X_port = port_test.drop(['Loss_Amount','Frequency','Severity','Loss_Ratio'],axis=1)\n",
    "    Y_port = port_test['Loss_Amount']\n",
    "\n",
    "    X_portscaled = scaler.transform(X_port)\n",
    "    \n",
    "    port_test['Pred_lossamount']=l2_cv.predict(X_portscaled)\n",
    "    port_test['Pred_lossratio']=port_test['Pred_lossamount']/port_test['Annual_Premium']\n",
    "    por_rms = sqrt(mean_squared_error(port_test['Pred_lossamount'], Y_port))\n",
    "    \n",
    "\n",
    "    port_actual_loss=port_test['Loss_Amount'].sum()\n",
    "    port_actual_lossratio=port_test['Loss_Ratio'].mean()\n",
    "    actual_loss_log = np.log(port_actual_lossratio)\n",
    "    port_predict_loss_ratio=port_test['Pred_lossratio'].mean()\n",
    "\n",
    "    predict_loss_log = np.log(port_predict_loss_ratio)\n",
    "    abs_error = port_predict_loss_ratio-port_actual_lossratio\n",
    "    \n",
    "    dfObj = dfObj.append({'FileName': filename[filename.rfind('\\\\')+1:], 'PredictedLogRatio': predict_loss_log, 'ActualLogRatio': actual_loss_log, \n",
    "                          'AbsoluteErrorLogRatio': abs_error, 'RMSE_Portfolio': por_rms}, ignore_index=True)\n",
    "\n"
   ]
  },
  {
   "cell_type": "code",
   "execution_count": 96,
   "metadata": {},
   "outputs": [],
   "source": [
    "dfObj.to_csv('Results-L2.csv',index = False)"
   ]
  },
  {
   "cell_type": "code",
   "execution_count": 97,
   "metadata": {},
   "outputs": [
    {
     "data": {
      "text/html": [
       "<div>\n",
       "<style scoped>\n",
       "    .dataframe tbody tr th:only-of-type {\n",
       "        vertical-align: middle;\n",
       "    }\n",
       "\n",
       "    .dataframe tbody tr th {\n",
       "        vertical-align: top;\n",
       "    }\n",
       "\n",
       "    .dataframe thead th {\n",
       "        text-align: right;\n",
       "    }\n",
       "</style>\n",
       "<table border=\"1\" class=\"dataframe\">\n",
       "  <thead>\n",
       "    <tr style=\"text-align: right;\">\n",
       "      <th></th>\n",
       "      <th>FileName</th>\n",
       "      <th>PredictedLogRatio</th>\n",
       "      <th>ActualLogRatio</th>\n",
       "      <th>AbsoluteErrorLogRatio</th>\n",
       "      <th>RMSE_Portfolio</th>\n",
       "    </tr>\n",
       "  </thead>\n",
       "  <tbody>\n",
       "    <tr>\n",
       "      <td>0</td>\n",
       "      <td>Test400.csv</td>\n",
       "      <td>0.299419</td>\n",
       "      <td>0.284192</td>\n",
       "      <td>0.020387</td>\n",
       "      <td>1782.975714</td>\n",
       "    </tr>\n",
       "    <tr>\n",
       "      <td>1</td>\n",
       "      <td>Test401.csv</td>\n",
       "      <td>0.236895</td>\n",
       "      <td>0.180583</td>\n",
       "      <td>0.069392</td>\n",
       "      <td>1548.752545</td>\n",
       "    </tr>\n",
       "    <tr>\n",
       "      <td>2</td>\n",
       "      <td>Test402.csv</td>\n",
       "      <td>0.119735</td>\n",
       "      <td>-0.211575</td>\n",
       "      <td>0.317890</td>\n",
       "      <td>2106.417665</td>\n",
       "    </tr>\n",
       "    <tr>\n",
       "      <td>3</td>\n",
       "      <td>Test403.csv</td>\n",
       "      <td>0.185111</td>\n",
       "      <td>0.024458</td>\n",
       "      <td>0.178592</td>\n",
       "      <td>1796.853568</td>\n",
       "    </tr>\n",
       "    <tr>\n",
       "      <td>4</td>\n",
       "      <td>Test404.csv</td>\n",
       "      <td>0.238392</td>\n",
       "      <td>-0.322801</td>\n",
       "      <td>0.545088</td>\n",
       "      <td>1731.658113</td>\n",
       "    </tr>\n",
       "  </tbody>\n",
       "</table>\n",
       "</div>"
      ],
      "text/plain": [
       "      FileName  PredictedLogRatio  ActualLogRatio  AbsoluteErrorLogRatio  \\\n",
       "0  Test400.csv           0.299419        0.284192               0.020387   \n",
       "1  Test401.csv           0.236895        0.180583               0.069392   \n",
       "2  Test402.csv           0.119735       -0.211575               0.317890   \n",
       "3  Test403.csv           0.185111        0.024458               0.178592   \n",
       "4  Test404.csv           0.238392       -0.322801               0.545088   \n",
       "\n",
       "   RMSE_Portfolio  \n",
       "0     1782.975714  \n",
       "1     1548.752545  \n",
       "2     2106.417665  \n",
       "3     1796.853568  \n",
       "4     1731.658113  "
      ]
     },
     "execution_count": 97,
     "metadata": {},
     "output_type": "execute_result"
    }
   ],
   "source": [
    "dfObj.head()"
   ]
  },
  {
   "cell_type": "code",
   "execution_count": 59,
   "metadata": {},
   "outputs": [],
   "source": []
  }
 ],
 "metadata": {
  "kernelspec": {
   "display_name": "Python 3",
   "language": "python",
   "name": "python3"
  },
  "language_info": {
   "codemirror_mode": {
    "name": "ipython",
    "version": 3
   },
   "file_extension": ".py",
   "mimetype": "text/x-python",
   "name": "python",
   "nbconvert_exporter": "python",
   "pygments_lexer": "ipython3",
   "version": "3.7.4"
  }
 },
 "nbformat": 4,
 "nbformat_minor": 4
}
