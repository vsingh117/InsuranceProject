{
 "cells": [
  {
   "cell_type": "code",
   "execution_count": 12,
   "metadata": {},
   "outputs": [],
   "source": [
    "import numpy as np\n",
    "import pandas as pd\n",
    "from sklearn.model_selection import train_test_split\n",
    "import os"
   ]
  },
  {
   "cell_type": "code",
   "execution_count": 13,
   "metadata": {},
   "outputs": [
    {
     "data": {
      "text/html": [
       "<div>\n",
       "<style scoped>\n",
       "    .dataframe tbody tr th:only-of-type {\n",
       "        vertical-align: middle;\n",
       "    }\n",
       "\n",
       "    .dataframe tbody tr th {\n",
       "        vertical-align: top;\n",
       "    }\n",
       "\n",
       "    .dataframe thead th {\n",
       "        text-align: right;\n",
       "    }\n",
       "</style>\n",
       "<table border=\"1\" class=\"dataframe\">\n",
       "  <thead>\n",
       "    <tr style=\"text-align: right;\">\n",
       "      <th></th>\n",
       "      <th>Policy_Company</th>\n",
       "      <th>Policy_Installment_Term</th>\n",
       "      <th>Policy_Billing_Code</th>\n",
       "      <th>Policy_Method_Of_Payment</th>\n",
       "      <th>Policy_Reinstatement_Fee_Indicator</th>\n",
       "      <th>Policy_Zip_Code_Garaging_Location</th>\n",
       "      <th>Vehicle_Territory</th>\n",
       "      <th>Vehicle_Make_Year</th>\n",
       "      <th>Vehicle_Make_Description</th>\n",
       "      <th>Vehicle_Performance</th>\n",
       "      <th>...</th>\n",
       "      <th>EEA_Full_Coverage_Indicator</th>\n",
       "      <th>EEA_Prior_Bodily_Injury_Limit</th>\n",
       "      <th>SYS_Renewed</th>\n",
       "      <th>SYS_New_Business</th>\n",
       "      <th>Annual_Premium</th>\n",
       "      <th>Claim_Count</th>\n",
       "      <th>Loss_Amount</th>\n",
       "      <th>Frequency</th>\n",
       "      <th>Severity</th>\n",
       "      <th>Loss_Ratio</th>\n",
       "    </tr>\n",
       "  </thead>\n",
       "  <tbody>\n",
       "    <tr>\n",
       "      <td>0</td>\n",
       "      <td>Standard</td>\n",
       "      <td>6</td>\n",
       "      <td>Direct Billed to Insured</td>\n",
       "      <td>Pre-paid</td>\n",
       "      <td>N</td>\n",
       "      <td>43046</td>\n",
       "      <td>35</td>\n",
       "      <td>2004</td>\n",
       "      <td>LINCOLN</td>\n",
       "      <td>Standard</td>\n",
       "      <td>...</td>\n",
       "      <td>Y</td>\n",
       "      <td>100000</td>\n",
       "      <td>Y</td>\n",
       "      <td>N</td>\n",
       "      <td>320.12</td>\n",
       "      <td>0</td>\n",
       "      <td>0.0</td>\n",
       "      <td>0.0</td>\n",
       "      <td>0.0</td>\n",
       "      <td>0.0</td>\n",
       "    </tr>\n",
       "    <tr>\n",
       "      <td>1</td>\n",
       "      <td>Standard</td>\n",
       "      <td>6</td>\n",
       "      <td>Direct Billed to Insured</td>\n",
       "      <td>Pre-paid</td>\n",
       "      <td>N</td>\n",
       "      <td>42878</td>\n",
       "      <td>35</td>\n",
       "      <td>1980</td>\n",
       "      <td>CADILLAC</td>\n",
       "      <td>Standard</td>\n",
       "      <td>...</td>\n",
       "      <td>Y</td>\n",
       "      <td>50000</td>\n",
       "      <td>Y</td>\n",
       "      <td>N</td>\n",
       "      <td>259.70</td>\n",
       "      <td>0</td>\n",
       "      <td>0.0</td>\n",
       "      <td>0.0</td>\n",
       "      <td>0.0</td>\n",
       "      <td>0.0</td>\n",
       "    </tr>\n",
       "    <tr>\n",
       "      <td>2</td>\n",
       "      <td>Standard</td>\n",
       "      <td>6</td>\n",
       "      <td>Direct Billed to Insured</td>\n",
       "      <td>Pre-paid</td>\n",
       "      <td>N</td>\n",
       "      <td>43555</td>\n",
       "      <td>17</td>\n",
       "      <td>2005</td>\n",
       "      <td>PONTIAC</td>\n",
       "      <td>Standard</td>\n",
       "      <td>...</td>\n",
       "      <td>Y</td>\n",
       "      <td>100000</td>\n",
       "      <td>Y</td>\n",
       "      <td>N</td>\n",
       "      <td>613.74</td>\n",
       "      <td>0</td>\n",
       "      <td>0.0</td>\n",
       "      <td>0.0</td>\n",
       "      <td>0.0</td>\n",
       "      <td>0.0</td>\n",
       "    </tr>\n",
       "    <tr>\n",
       "      <td>3</td>\n",
       "      <td>Standard</td>\n",
       "      <td>6</td>\n",
       "      <td>Direct Billed to Insured</td>\n",
       "      <td>Pre-paid</td>\n",
       "      <td>N</td>\n",
       "      <td>43561</td>\n",
       "      <td>17</td>\n",
       "      <td>2005</td>\n",
       "      <td>MERCEDES</td>\n",
       "      <td>Standard</td>\n",
       "      <td>...</td>\n",
       "      <td>Y</td>\n",
       "      <td>35000</td>\n",
       "      <td>Y</td>\n",
       "      <td>N</td>\n",
       "      <td>541.66</td>\n",
       "      <td>0</td>\n",
       "      <td>0.0</td>\n",
       "      <td>0.0</td>\n",
       "      <td>0.0</td>\n",
       "      <td>0.0</td>\n",
       "    </tr>\n",
       "    <tr>\n",
       "      <td>4</td>\n",
       "      <td>Standard</td>\n",
       "      <td>6</td>\n",
       "      <td>Direct Billed to Insured</td>\n",
       "      <td>Pre-paid</td>\n",
       "      <td>N</td>\n",
       "      <td>43561</td>\n",
       "      <td>17</td>\n",
       "      <td>2005</td>\n",
       "      <td>MERCEDES</td>\n",
       "      <td>Standard</td>\n",
       "      <td>...</td>\n",
       "      <td>Y</td>\n",
       "      <td>35000</td>\n",
       "      <td>Y</td>\n",
       "      <td>N</td>\n",
       "      <td>541.66</td>\n",
       "      <td>0</td>\n",
       "      <td>0.0</td>\n",
       "      <td>0.0</td>\n",
       "      <td>0.0</td>\n",
       "      <td>0.0</td>\n",
       "    </tr>\n",
       "  </tbody>\n",
       "</table>\n",
       "<p>5 rows × 65 columns</p>\n",
       "</div>"
      ],
      "text/plain": [
       "  Policy_Company  Policy_Installment_Term       Policy_Billing_Code  \\\n",
       "0      Standard                         6  Direct Billed to Insured   \n",
       "1      Standard                         6  Direct Billed to Insured   \n",
       "2      Standard                         6  Direct Billed to Insured   \n",
       "3      Standard                         6  Direct Billed to Insured   \n",
       "4      Standard                         6  Direct Billed to Insured   \n",
       "\n",
       "  Policy_Method_Of_Payment Policy_Reinstatement_Fee_Indicator  \\\n",
       "0                 Pre-paid                                  N   \n",
       "1                 Pre-paid                                  N   \n",
       "2                 Pre-paid                                  N   \n",
       "3                 Pre-paid                                  N   \n",
       "4                 Pre-paid                                  N   \n",
       "\n",
       "   Policy_Zip_Code_Garaging_Location  Vehicle_Territory  Vehicle_Make_Year  \\\n",
       "0                              43046                 35               2004   \n",
       "1                              42878                 35               1980   \n",
       "2                              43555                 17               2005   \n",
       "3                              43561                 17               2005   \n",
       "4                              43561                 17               2005   \n",
       "\n",
       "  Vehicle_Make_Description Vehicle_Performance  ...  \\\n",
       "0                  LINCOLN            Standard  ...   \n",
       "1                 CADILLAC            Standard  ...   \n",
       "2                  PONTIAC            Standard  ...   \n",
       "3                 MERCEDES            Standard  ...   \n",
       "4                 MERCEDES            Standard  ...   \n",
       "\n",
       "   EEA_Full_Coverage_Indicator  EEA_Prior_Bodily_Injury_Limit SYS_Renewed  \\\n",
       "0                            Y                         100000           Y   \n",
       "1                            Y                          50000           Y   \n",
       "2                            Y                         100000           Y   \n",
       "3                            Y                          35000           Y   \n",
       "4                            Y                          35000           Y   \n",
       "\n",
       "   SYS_New_Business  Annual_Premium Claim_Count Loss_Amount  Frequency  \\\n",
       "0                 N          320.12           0         0.0        0.0   \n",
       "1                 N          259.70           0         0.0        0.0   \n",
       "2                 N          613.74           0         0.0        0.0   \n",
       "3                 N          541.66           0         0.0        0.0   \n",
       "4                 N          541.66           0         0.0        0.0   \n",
       "\n",
       "   Severity  Loss_Ratio  \n",
       "0       0.0         0.0  \n",
       "1       0.0         0.0  \n",
       "2       0.0         0.0  \n",
       "3       0.0         0.0  \n",
       "4       0.0         0.0  \n",
       "\n",
       "[5 rows x 65 columns]"
      ]
     },
     "execution_count": 13,
     "metadata": {},
     "output_type": "execute_result"
    }
   ],
   "source": [
    "# Read input dataset\n",
    "train_udata=pd.read_csv(\"Updated_training.csv\",low_memory=False)\n",
    "train_udata.head()"
   ]
  },
  {
   "cell_type": "code",
   "execution_count": 14,
   "metadata": {},
   "outputs": [
    {
     "name": "stdout",
     "output_type": "stream",
     "text": [
      "Data count with 0 loss amount ::  Loss_Amount    405440\n",
      "dtype: int64\n",
      "Data count with non 0 loss amount ::  Loss_Amount    18809\n",
      "dtype: int64\n"
     ]
    }
   ],
   "source": [
    "# Drop vehicle annual miles\n",
    "#print('Data count with 0 loss amount :: ',train_udata[['Loss_Amount']].query('Loss_Amount == 0').count())\n",
    "zdata=train_udata.query('Loss_Amount == 0')\n",
    "print('Data count with 0 loss amount :: ',zdata[['Loss_Amount']].count())\n",
    "#print('Data count with non 0 loss amount :: ',train_udata[['Loss_Amount']].query('Loss_Amount != 0').count())\n",
    "wzdata=train_udata.query('Loss_Amount != 0')\n",
    "print('Data count with non 0 loss amount :: ',wzdata[['Loss_Amount']].count())"
   ]
  },
  {
   "cell_type": "code",
   "execution_count": 15,
   "metadata": {},
   "outputs": [
    {
     "name": "stdout",
     "output_type": "stream",
     "text": [
      "Data in Z training set ::  Loss_Amount    324352\n",
      "dtype: int64\n",
      "Data in Z test set ::  Loss_Amount    81088\n",
      "dtype: int64\n",
      "Data in WZ training set ::  Loss_Amount    15047\n",
      "dtype: int64\n",
      "Data in WZ test set ::  Loss_Amount    3762\n",
      "dtype: int64\n"
     ]
    }
   ],
   "source": [
    "ztrain, ztest = train_test_split(zdata, test_size=0.2)\n",
    "wztrain, wztest = train_test_split(wzdata, test_size=0.2)\n",
    "print('Data in Z training set :: ',ztrain[['Loss_Amount']].count())\n",
    "print('Data in Z test set :: ',ztest[['Loss_Amount']].count())\n",
    "print('Data in WZ training set :: ',wztrain[['Loss_Amount']].count())\n",
    "print('Data in WZ test set :: ',wztest[['Loss_Amount']].count())"
   ]
  },
  {
   "cell_type": "code",
   "execution_count": 16,
   "metadata": {},
   "outputs": [
    {
     "name": "stdout",
     "output_type": "stream",
     "text": [
      "Total data for training model ::  Loss_Amount    339399\n",
      "dtype: int64\n",
      "Total data for testing model ::  Loss_Amount    84850\n",
      "dtype: int64\n"
     ]
    }
   ],
   "source": [
    "trainframes = [ztrain, wztrain]\n",
    "testframes = [ztest, wztest]\n",
    "train = pd.concat(trainframes)\n",
    "test = pd.concat(testframes)\n",
    "\n",
    "print('Total data for training model :: ',train[['Loss_Amount']].count())\n",
    "print('Total data for testing model :: ',test[['Loss_Amount']].count())\n",
    "\n",
    "train.to_csv('Balance_training.csv',index = False)"
   ]
  },
  {
   "cell_type": "code",
   "execution_count": 17,
   "metadata": {},
   "outputs": [
    {
     "name": "stdout",
     "output_type": "stream",
     "text": [
      "Record count for zero dataset ::  81088\n",
      "Record count for non zero dataset ::  3762\n"
     ]
    }
   ],
   "source": [
    "df_withzero = test.query('Loss_Amount == 0')\n",
    "df_wozero = test.query('Loss_Amount != 0')\n",
    "print('Record count for zero dataset :: ',df_withzero['Loss_Amount'].count())\n",
    "print('Record count for non zero dataset :: ',df_wozero['Loss_Amount'].count())"
   ]
  },
  {
   "cell_type": "code",
   "execution_count": 18,
   "metadata": {},
   "outputs": [],
   "source": [
    "#df_corr.to_excel(\"Corr-matrix.xlsx\",\"Corr\")\n",
    "#for col in train_udata.columns: \n",
    "#    print(col) \n",
    "#sns.set_style('whitegrid')\n",
    "#sns.countplot(x='Vehicle_Usage',data=train_udata)"
   ]
  },
  {
   "cell_type": "code",
   "execution_count": 19,
   "metadata": {},
   "outputs": [],
   "source": [
    "NUMBER_OF_SPLITS = 17\n",
    "for i, new_df in enumerate(np.array_split(df_withzero,NUMBER_OF_SPLITS)):\n",
    "    with open(f\".\\Trainportfolio\\Test{i+1}.csv\",\"w\", newline=\"\") as fo:\n",
    "            fo.write(new_df.to_csv(index=False))"
   ]
  },
  {
   "cell_type": "code",
   "execution_count": 20,
   "metadata": {},
   "outputs": [],
   "source": [
    "NUM_OF_SPLITS = 17\n",
    "for j, ndf in enumerate(np.array_split(df_wozero,NUM_OF_SPLITS)):\n",
    "    with open(f\".\\Trainportfolio\\Test{j+1}.csv\",\"a\", newline=\"\") as fo:\n",
    "            ndf.to_csv(fo,index=False, mode='a', header=False)"
   ]
  },
  {
   "cell_type": "code",
   "execution_count": 21,
   "metadata": {},
   "outputs": [],
   "source": [
    "NUMBER_OF_SPLITS = 425\n",
    "for i, new_df in enumerate(np.array_split(zdata,NUMBER_OF_SPLITS)):\n",
    "    with open(f\".\\PortfoliowisePredict\\Test{i+1}.csv\",\"w\", newline=\"\") as fo:\n",
    "            fo.write(new_df.to_csv(index=False))"
   ]
  },
  {
   "cell_type": "code",
   "execution_count": 22,
   "metadata": {},
   "outputs": [],
   "source": [
    "NUM_OF_SPLITS = 425\n",
    "for j, ndf in enumerate(np.array_split(wzdata,NUM_OF_SPLITS)):\n",
    "    with open(f\".\\PortfoliowisePredict\\Test{j+1}.csv\",\"a\", newline=\"\") as fo:\n",
    "            ndf.to_csv(fo,index=False, mode='a', header=False)"
   ]
  },
  {
   "cell_type": "code",
   "execution_count": null,
   "metadata": {},
   "outputs": [],
   "source": []
  }
 ],
 "metadata": {
  "kernelspec": {
   "display_name": "Python 3",
   "language": "python",
   "name": "python3"
  },
  "language_info": {
   "codemirror_mode": {
    "name": "ipython",
    "version": 3
   },
   "file_extension": ".py",
   "mimetype": "text/x-python",
   "name": "python",
   "nbconvert_exporter": "python",
   "pygments_lexer": "ipython3",
   "version": "3.7.4"
  }
 },
 "nbformat": 4,
 "nbformat_minor": 4
}
